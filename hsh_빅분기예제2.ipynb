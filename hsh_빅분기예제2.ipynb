{
 "cells": [
  {
   "cell_type": "markdown",
   "id": "69fb9024",
   "metadata": {},
   "source": [
    "출력을 원하실 경우 print() 활용  \n",
    "예) print(df.head())  \n",
    "  \n",
    "답안 제출 예시  \n",
    "수험번호.csv 생성  \n",
    "DataFrame.to_csv(\"0000.csv\", index=False)"
   ]
  },
  {
   "cell_type": "code",
   "execution_count": 1,
   "id": "fb612f77",
   "metadata": {},
   "outputs": [],
   "source": [
    "import pandas as pd\n",
    "import numpy as np\n",
    "import matplotlib.pyplot as plt\n",
    "import seaborn as sns\n",
    "import os\n",
    "import warnings\n",
    "\n",
    "from sklearn.ensemble import RandomForestClassifier\n",
    "from sklearn.tree import DecisionTreeClassifier\n",
    "from sklearn.metrics import accuracy_score\n",
    "from sklearn.model_selection import train_test_split, KFold, StratifiedKFold, GridSearchCV\n",
    "\n",
    "warnings.filterwarnings(action='ignore')\n",
    "sns.set()"
   ]
  },
  {
   "cell_type": "code",
   "execution_count": 2,
   "id": "12c62be2",
   "metadata": {},
   "outputs": [],
   "source": [
    "path = \"D:\\\\[Dataset] 작업형 제2유형\""
   ]
  },
  {
   "cell_type": "code",
   "execution_count": 3,
   "id": "aeb222fe",
   "metadata": {},
   "outputs": [],
   "source": [
    "X_train = pd.read_csv(os.path.join(path,'X_train.csv'), index_col=\"cust_id\", encoding=\"euc-kr\")\n",
    "y_train = pd.read_csv(os.path.join(path,'y_train.csv'), index_col=\"cust_id\", encoding=\"euc-kr\")\n",
    "test  = pd.read_csv(os.path.join(path,'X_test.csv'), index_col=\"cust_id\", encoding=\"euc-kr\")"
   ]
  },
  {
   "cell_type": "code",
   "execution_count": 4,
   "id": "2a906902",
   "metadata": {},
   "outputs": [],
   "source": [
    "df = pd.concat([X_train, y_train], axis=1)"
   ]
  },
  {
   "cell_type": "code",
   "execution_count": 5,
   "id": "d47e6fbf",
   "metadata": {},
   "outputs": [
    {
     "data": {
      "text/plain": [
       "총구매액          0\n",
       "최대구매액         0\n",
       "환불금액       2295\n",
       "주구매상품         0\n",
       "주구매지점         0\n",
       "내점일수          0\n",
       "내점당구매건수       0\n",
       "주말방문비율        0\n",
       "구매주기          0\n",
       "gender        0\n",
       "dtype: int64"
      ]
     },
     "execution_count": 5,
     "metadata": {},
     "output_type": "execute_result"
    }
   ],
   "source": [
    "df.isna().sum()"
   ]
  },
  {
   "cell_type": "code",
   "execution_count": 6,
   "id": "a5986b3e",
   "metadata": {},
   "outputs": [
    {
     "data": {
      "text/plain": [
       "총구매액          0\n",
       "최대구매액         0\n",
       "환불금액       1611\n",
       "주구매상품         0\n",
       "주구매지점         0\n",
       "내점일수          0\n",
       "내점당구매건수       0\n",
       "주말방문비율        0\n",
       "구매주기          0\n",
       "dtype: int64"
      ]
     },
     "execution_count": 6,
     "metadata": {},
     "output_type": "execute_result"
    }
   ],
   "source": [
    "test.isna().sum()"
   ]
  },
  {
   "cell_type": "code",
   "execution_count": 7,
   "id": "3c6e57b7",
   "metadata": {},
   "outputs": [
    {
     "data": {
      "text/plain": [
       "<AxesSubplot:>"
      ]
     },
     "execution_count": 7,
     "metadata": {},
     "output_type": "execute_result"
    },
    {
     "data": {
      "image/png": "[encoded data removed]",
      "text/plain": [
       "<Figure size 432x288 with 1 Axes>"
      ]
     },
     "metadata": {},
     "output_type": "display_data"
    }
   ],
   "source": [
    "df['gender'].hist()"
   ]
  },
  {
   "cell_type": "code",
   "execution_count": 8,
   "id": "d3193d05",
   "metadata": {},
   "outputs": [],
   "source": [
    "df['환불금액'] = df['환불금액'].fillna(0)\n",
    "test['환불금액'] = test['환불금액'].fillna(0)"
   ]
  },
  {
   "cell_type": "code",
   "execution_count": 9,
   "id": "c54c7bf2",
   "metadata": {},
   "outputs": [
    {
     "data": {
      "text/plain": [
       "(0, 0)"
      ]
     },
     "execution_count": 9,
     "metadata": {},
     "output_type": "execute_result"
    }
   ],
   "source": [
    "df.isna().sum().sum(), test.isna().sum().sum()"
   ]
  },
  {
   "cell_type": "code",
   "execution_count": 10,
   "id": "aa3af4db",
   "metadata": {},
   "outputs": [],
   "source": [
    "X_data = df.drop('gender', axis=1)\n",
    "y_data = df['gender']"
   ]
  },
  {
   "cell_type": "code",
   "execution_count": 11,
   "id": "2508cb79",
   "metadata": {},
   "outputs": [],
   "source": [
    "obj_list = X_data.dtypes[X_data.dtypes == 'object'].index\n",
    "num_list = X_data.dtypes[X_data.dtypes != 'object'].index"
   ]
  },
  {
   "cell_type": "code",
   "execution_count": 12,
   "id": "cca7c678",
   "metadata": {},
   "outputs": [],
   "source": [
    "dummy_list=  pd.get_dummies(X_data[obj_list])\n",
    "test_dummy_list = pd.get_dummies(test[obj_list])"
   ]
  },
  {
   "cell_type": "code",
   "execution_count": 13,
   "id": "48f531c0",
   "metadata": {},
   "outputs": [],
   "source": [
    "X_data.drop(obj_list, axis=1, inplace=True)\n",
    "X_data = pd.concat([X_data, dummy_list], axis=1)"
   ]
  },
  {
   "cell_type": "code",
   "execution_count": 14,
   "id": "2a796536",
   "metadata": {},
   "outputs": [
    {
     "name": "stdout",
     "output_type": "stream",
     "text": [
      "Fitting 10 folds for each of 54 candidates, totalling 540 fits\n"
     ]
    },
    {
     "data": {
      "text/plain": [
       "0.66"
      ]
     },
     "execution_count": 14,
     "metadata": {},
     "output_type": "execute_result"
    }
   ],
   "source": [
    "skfold = StratifiedKFold(n_splits=10)\n",
    "dt_clf = DecisionTreeClassifier(random_state=156)\n",
    "RFC = RandomForestClassifier()\n",
    "\n",
    "rf_param_grid = {\"max_depth\": [None],\n",
    "              \"max_features\": [1, 3, 10],\n",
    "              \"min_samples_split\": [2, 3, 10],\n",
    "              \"min_samples_leaf\": [1, 3, 10],\n",
    "              \"bootstrap\": [False],\n",
    "              \"n_estimators\" :[100,300],\n",
    "              \"criterion\": [\"gini\"]}\n",
    "cv_accuracy = []\n",
    "\n",
    "gsRFC = GridSearchCV(RFC,param_grid = rf_param_grid, cv=skfold, scoring=\"accuracy\", n_jobs= 4, verbose = 1)\n",
    "gsRFC.fit(X_data,y_data)\n",
    "RFC_best = gsRFC.best_estimator_\n",
    "\n",
    "gsRFC.best_score_"
   ]
  }
 ],
 "metadata": {
  "kernelspec": {
   "display_name": "Python 3",
   "language": "python",
   "name": "python3"
  },
  "language_info": {
   "codemirror_mode": {
    "name": "ipython",
    "version": 3
   },
   "file_extension": ".py",
   "mimetype": "text/x-python",
   "name": "python",
   "nbconvert_exporter": "python",
   "pygments_lexer": "ipython3",
   "version": "3.8.8"
  }
 },
 "nbformat": 4,
 "nbformat_minor": 5
}
