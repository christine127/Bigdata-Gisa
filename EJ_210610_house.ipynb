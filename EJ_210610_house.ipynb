{
 "cells": [
  {
   "cell_type": "code",
   "execution_count": 1,
   "metadata": {},
   "outputs": [],
   "source": [
    "import warnings\n",
    "warnings.filterwarnings('ignore')\n",
    "import pandas as pd\n",
    "import numpy as np\n",
    "\n",
    "from sklearn.linear_model import LinearRegression, Ridge, Lasso\n",
    "from sklearn.model_selection import train_test_split, cross_val_score, GridSearchCV\n",
    "from sklearn.metrics import mean_squared_error\n",
    "\n",
    "from sklearn.ensemble import RandomForestRegressor\n",
    "from xgboost import XGBRegressor"
   ]
  },
  {
   "cell_type": "code",
   "execution_count": 2,
   "metadata": {},
   "outputs": [
    {
     "name": "stdout",
     "output_type": "stream",
     "text": [
      "   Id  MSSubClass MSZoning  LotFrontage  LotArea Street Alley LotShape  \\\n",
      "0   1          60       RL         65.0     8450   Pave   NaN      Reg   \n",
      "1   2          20       RL         80.0     9600   Pave   NaN      Reg   \n",
      "2   3          60       RL         68.0    11250   Pave   NaN      IR1   \n",
      "\n",
      "  LandContour Utilities  ... PoolArea PoolQC Fence MiscFeature MiscVal MoSold  \\\n",
      "0         Lvl    AllPub  ...        0    NaN   NaN         NaN       0      2   \n",
      "1         Lvl    AllPub  ...        0    NaN   NaN         NaN       0      5   \n",
      "2         Lvl    AllPub  ...        0    NaN   NaN         NaN       0      9   \n",
      "\n",
      "  YrSold  SaleType  SaleCondition  SalePrice  \n",
      "0   2008        WD         Normal     208500  \n",
      "1   2007        WD         Normal     181500  \n",
      "2   2008        WD         Normal     223500  \n",
      "\n",
      "[3 rows x 81 columns]\n"
     ]
    }
   ],
   "source": [
    "house_df=pd.read_csv(\"house_price.csv\")\n",
    "print(house_df.head(3))"
   ]
  },
  {
   "cell_type": "code",
   "execution_count": 3,
   "metadata": {},
   "outputs": [
    {
     "name": "stdout",
     "output_type": "stream",
     "text": [
      "<class 'pandas.core.frame.DataFrame'>\n",
      "RangeIndex: 1460 entries, 0 to 1459\n",
      "Data columns (total 81 columns):\n",
      " #   Column         Non-Null Count  Dtype  \n",
      "---  ------         --------------  -----  \n",
      " 0   Id             1460 non-null   int64  \n",
      " 1   MSSubClass     1460 non-null   int64  \n",
      " 2   MSZoning       1460 non-null   object \n",
      " 3   LotFrontage    1201 non-null   float64\n",
      " 4   LotArea        1460 non-null   int64  \n",
      " 5   Street         1460 non-null   object \n",
      " 6   Alley          91 non-null     object \n",
      " 7   LotShape       1460 non-null   object \n",
      " 8   LandContour    1460 non-null   object \n",
      " 9   Utilities      1460 non-null   object \n",
      " 10  LotConfig      1460 non-null   object \n",
      " 11  LandSlope      1460 non-null   object \n",
      " 12  Neighborhood   1460 non-null   object \n",
      " 13  Condition1     1460 non-null   object \n",
      " 14  Condition2     1460 non-null   object \n",
      " 15  BldgType       1460 non-null   object \n",
      " 16  HouseStyle     1460 non-null   object \n",
      " 17  OverallQual    1460 non-null   int64  \n",
      " 18  OverallCond    1460 non-null   int64  \n",
      " 19  YearBuilt      1460 non-null   int64  \n",
      " 20  YearRemodAdd   1460 non-null   int64  \n",
      " 21  RoofStyle      1460 non-null   object \n",
      " 22  RoofMatl       1460 non-null   object \n",
      " 23  Exterior1st    1460 non-null   object \n",
      " 24  Exterior2nd    1460 non-null   object \n",
      " 25  MasVnrType     1452 non-null   object \n",
      " 26  MasVnrArea     1452 non-null   float64\n",
      " 27  ExterQual      1460 non-null   object \n",
      " 28  ExterCond      1460 non-null   object \n",
      " 29  Foundation     1460 non-null   object \n",
      " 30  BsmtQual       1423 non-null   object \n",
      " 31  BsmtCond       1423 non-null   object \n",
      " 32  BsmtExposure   1422 non-null   object \n",
      " 33  BsmtFinType1   1423 non-null   object \n",
      " 34  BsmtFinSF1     1460 non-null   int64  \n",
      " 35  BsmtFinType2   1422 non-null   object \n",
      " 36  BsmtFinSF2     1460 non-null   int64  \n",
      " 37  BsmtUnfSF      1460 non-null   int64  \n",
      " 38  TotalBsmtSF    1460 non-null   int64  \n",
      " 39  Heating        1460 non-null   object \n",
      " 40  HeatingQC      1460 non-null   object \n",
      " 41  CentralAir     1460 non-null   object \n",
      " 42  Electrical     1459 non-null   object \n",
      " 43  1stFlrSF       1460 non-null   int64  \n",
      " 44  2ndFlrSF       1460 non-null   int64  \n",
      " 45  LowQualFinSF   1460 non-null   int64  \n",
      " 46  GrLivArea      1460 non-null   int64  \n",
      " 47  BsmtFullBath   1460 non-null   int64  \n",
      " 48  BsmtHalfBath   1460 non-null   int64  \n",
      " 49  FullBath       1460 non-null   int64  \n",
      " 50  HalfBath       1460 non-null   int64  \n",
      " 51  BedroomAbvGr   1460 non-null   int64  \n",
      " 52  KitchenAbvGr   1460 non-null   int64  \n",
      " 53  KitchenQual    1460 non-null   object \n",
      " 54  TotRmsAbvGrd   1460 non-null   int64  \n",
      " 55  Functional     1460 non-null   object \n",
      " 56  Fireplaces     1460 non-null   int64  \n",
      " 57  FireplaceQu    770 non-null    object \n",
      " 58  GarageType     1379 non-null   object \n",
      " 59  GarageYrBlt    1379 non-null   float64\n",
      " 60  GarageFinish   1379 non-null   object \n",
      " 61  GarageCars     1460 non-null   int64  \n",
      " 62  GarageArea     1460 non-null   int64  \n",
      " 63  GarageQual     1379 non-null   object \n",
      " 64  GarageCond     1379 non-null   object \n",
      " 65  PavedDrive     1460 non-null   object \n",
      " 66  WoodDeckSF     1460 non-null   int64  \n",
      " 67  OpenPorchSF    1460 non-null   int64  \n",
      " 68  EnclosedPorch  1460 non-null   int64  \n",
      " 69  3SsnPorch      1460 non-null   int64  \n",
      " 70  ScreenPorch    1460 non-null   int64  \n",
      " 71  PoolArea       1460 non-null   int64  \n",
      " 72  PoolQC         7 non-null      object \n",
      " 73  Fence          281 non-null    object \n",
      " 74  MiscFeature    54 non-null     object \n",
      " 75  MiscVal        1460 non-null   int64  \n",
      " 76  MoSold         1460 non-null   int64  \n",
      " 77  YrSold         1460 non-null   int64  \n",
      " 78  SaleType       1460 non-null   object \n",
      " 79  SaleCondition  1460 non-null   object \n",
      " 80  SalePrice      1460 non-null   int64  \n",
      "dtypes: float64(3), int64(35), object(43)\n",
      "memory usage: 924.0+ KB\n",
      "None\n"
     ]
    }
   ],
   "source": [
    "print(house_df.info())"
   ]
  },
  {
   "cell_type": "code",
   "execution_count": 4,
   "metadata": {},
   "outputs": [
    {
     "name": "stdout",
     "output_type": "stream",
     "text": [
      "\n",
      " (1460, 81)\n",
      "\n",
      " object     43\n",
      "int64      35\n",
      "float64     3\n",
      "dtype: int64\n"
     ]
    }
   ],
   "source": [
    "print(\"\\n\",house_df.shape)\n",
    "print(\"\\n\",house_df.dtypes.value_counts())"
   ]
  },
  {
   "cell_type": "markdown",
   "metadata": {},
   "source": [
    "### numeric/object feature 분리"
   ]
  },
  {
   "cell_type": "code",
   "execution_count": 5,
   "metadata": {},
   "outputs": [],
   "source": [
    "# object_feature = house_df.dtypes[house_df.dtypes == 'object'].index # 범주형\n",
    "# numeric_feature = house_df.dtypes[house_df.dtypes != 'object'].index # 수치형"
   ]
  },
  {
   "cell_type": "markdown",
   "metadata": {},
   "source": [
    "### corr"
   ]
  },
  {
   "cell_type": "code",
   "execution_count": 6,
   "metadata": {},
   "outputs": [],
   "source": [
    "# saleprice_corr_feature  = house_df[numeric_feature].corr().nlargest(15, 'SalePrice').index\n",
    "# # print(saleprice_corr_feature)\n",
    "# print(house_df[numeric_feature].corr().nlargest(15, 'SalePrice'))"
   ]
  },
  {
   "cell_type": "markdown",
   "metadata": {},
   "source": [
    "### 정규성 검정(왜도), 이상값(IQR), scaling, log+1 ..."
   ]
  },
  {
   "cell_type": "code",
   "execution_count": 7,
   "metadata": {},
   "outputs": [],
   "source": [
    "object_feature = house_df.dtypes[house_df.dtypes == 'object'].index # 범주형\n",
    "numeric_feature = house_df.dtypes[house_df.dtypes != 'object'].index # 수치형"
   ]
  },
  {
   "cell_type": "code",
   "execution_count": 8,
   "metadata": {},
   "outputs": [
    {
     "name": "stdout",
     "output_type": "stream",
     "text": [
      "Id                0.000000\n",
      "MSSubClass        1.406210\n",
      "LotFrontage            NaN\n",
      "LotArea          12.195142\n",
      "OverallQual       0.216721\n",
      "OverallCond       0.692355\n",
      "YearBuilt        -0.612831\n",
      "YearRemodAdd     -0.503044\n",
      "MasVnrArea             NaN\n",
      "BsmtFinSF1        1.683771\n",
      "BsmtFinSF2        4.250888\n",
      "BsmtUnfSF         0.919323\n",
      "TotalBsmtSF       1.522688\n",
      "1stFlrSF          1.375342\n",
      "2ndFlrSF          0.812194\n",
      "LowQualFinSF      9.002080\n",
      "GrLivArea         1.365156\n",
      "BsmtFullBath      0.595454\n",
      "BsmtHalfBath      4.099186\n",
      "FullBath          0.036524\n",
      "HalfBath          0.675203\n",
      "BedroomAbvGr      0.211572\n",
      "KitchenAbvGr      4.483784\n",
      "TotRmsAbvGrd      0.675646\n",
      "Fireplaces        0.648898\n",
      "GarageYrBlt            NaN\n",
      "GarageCars       -0.342197\n",
      "GarageArea        0.179796\n",
      "WoodDeckSF        1.539792\n",
      "OpenPorchSF       2.361912\n",
      "EnclosedPorch     3.086696\n",
      "3SsnPorch        10.293752\n",
      "ScreenPorch       4.117977\n",
      "PoolArea         14.813135\n",
      "MiscVal          24.451640\n",
      "MoSold            0.211835\n",
      "YrSold            0.096170\n",
      "SalePrice         1.880941\n",
      "dtype: float64\n"
     ]
    }
   ],
   "source": [
    "# |왜도|>3 인 피쳐\n",
    "from scipy.stats import skew\n",
    "sk_features = house_df[numeric_feature].apply(lambda x: skew(x))\n",
    "# sk_features = sk_features[ abs(sk_features)> 3]\n",
    "print(sk_features)\n",
    "# house_df[sk_features.index] = np.log1p(house_df[sk_features.index])\n",
    "# SalePrice 로그 변환\n",
    "original_SalePrice = house_df['SalePrice']\n",
    "house_df['SalePrice'] = np.log1p(house_df['SalePrice'])"
   ]
  },
  {
   "cell_type": "code",
   "execution_count": 9,
   "metadata": {},
   "outputs": [
    {
     "name": "stdout",
     "output_type": "stream",
     "text": [
      "0    12.247699\n",
      "1    12.109016\n",
      "2    12.317171\n",
      "Name: SalePrice, dtype: float64\n"
     ]
    }
   ],
   "source": [
    "print(house_df['SalePrice'].head(3))"
   ]
  },
  {
   "cell_type": "markdown",
   "metadata": {},
   "source": [
    "### isnull, drop, fillna"
   ]
  },
  {
   "cell_type": "markdown",
   "metadata": {},
   "source": [
    "##### 수치형"
   ]
  },
  {
   "cell_type": "code",
   "execution_count": 10,
   "metadata": {},
   "outputs": [
    {
     "name": "stdout",
     "output_type": "stream",
     "text": [
      "\n",
      " PoolQC          1453\n",
      "MiscFeature     1406\n",
      "Alley           1369\n",
      "Fence           1179\n",
      "FireplaceQu      690\n",
      "LotFrontage      259\n",
      "GarageYrBlt       81\n",
      "GarageType        81\n",
      "GarageFinish      81\n",
      "GarageQual        81\n",
      "GarageCond        81\n",
      "BsmtFinType2      38\n",
      "BsmtExposure      38\n",
      "BsmtFinType1      37\n",
      "BsmtCond          37\n",
      "BsmtQual          37\n",
      "MasVnrArea         8\n",
      "MasVnrType         8\n",
      "Electrical         1\n",
      "dtype: int64\n"
     ]
    }
   ],
   "source": [
    "null_series=house_df.isnull().sum()\n",
    "print('\\n', null_series[null_series>0].sort_values(ascending=False))\n",
    "#  PoolQC          1453\n",
    "# MiscFeature     1406\n",
    "# Alley           1369\n",
    "# Fence           1179\n",
    "# FireplaceQu      690\n",
    "null_col= [\"Id\",'PoolQC', 'MiscFeature', 'Alley', 'Fence', 'FireplaceQu']\n",
    "house_df.drop(null_col, axis=1, inplace=True)"
   ]
  },
  {
   "cell_type": "code",
   "execution_count": 11,
   "metadata": {},
   "outputs": [],
   "source": [
    "house_df.fillna(house_df.mean(), inplace=True)"
   ]
  },
  {
   "cell_type": "markdown",
   "metadata": {},
   "source": [
    "##### 범주형"
   ]
  },
  {
   "cell_type": "code",
   "execution_count": 12,
   "metadata": {},
   "outputs": [
    {
     "name": "stdout",
     "output_type": "stream",
     "text": [
      "MasVnrType      object\n",
      "BsmtQual        object\n",
      "BsmtCond        object\n",
      "BsmtExposure    object\n",
      "BsmtFinType1    object\n",
      "BsmtFinType2    object\n",
      "Electrical      object\n",
      "GarageType      object\n",
      "GarageFinish    object\n",
      "GarageQual      object\n",
      "GarageCond      object\n",
      "dtype: object\n"
     ]
    }
   ],
   "source": [
    "null_column_count = house_df.isnull().sum()[house_df.isnull().sum() > 0]\n",
    "print(house_df.dtypes[null_column_count.index])\n",
    "#원핫 인코딩 --> 자동으로 결측 None"
   ]
  },
  {
   "cell_type": "markdown",
   "metadata": {},
   "source": [
    "### encoding"
   ]
  },
  {
   "cell_type": "code",
   "execution_count": 13,
   "metadata": {},
   "outputs": [
    {
     "data": {
      "text/plain": [
       "(1460, 271)"
      ]
     },
     "execution_count": 13,
     "metadata": {},
     "output_type": "execute_result"
    }
   ],
   "source": [
    "house_df_ohe = pd.get_dummies(house_df)\n",
    "house_df_ohe.shape"
   ]
  },
  {
   "cell_type": "markdown",
   "metadata": {},
   "source": [
    "##### 정규성검정"
   ]
  },
  {
   "cell_type": "markdown",
   "metadata": {},
   "source": [
    "#### 이상값"
   ]
  },
  {
   "cell_type": "code",
   "execution_count": 14,
   "metadata": {},
   "outputs": [],
   "source": [
    "# house_df['SalePrice'].describe() \n",
    "# q1= house_df['SalePrice'].describe()[4]\n",
    "# q3=house_df['SalePrice'].describe()[6]\n",
    "# IQR=q3-q1\n",
    "# outlier= house_df.SalePrice[(house_df.SalePrice>= q3+IQR*1.5)|(house_df.SalePrice <= q1-IQR*1.5)].values\n",
    "# print(outlier)\n",
    "#_____________________\n",
    "# numeric_feature = house_df.dtypes[house_df.dtypes != 'object'].index # 수치형\n",
    "# for col in numeric_feature:\n",
    "#     q1, q3 = house_df[col].quantile([0.25, 0.75])\n",
    "#     iqr = q3-q1\n",
    "#     upper_bound = 1.5 * iqr\n",
    "#     print(col, upper_bound)\n",
    "#     house_df[col] = house_df[col].map(lambda x: upper_bound if x > upper_bound else x)\n",
    "    \n",
    "#______________________\n",
    "# for i in range(len(numeric_features)):\n",
    "#   print(\"----------------------------\",numeric_features[i])\n",
    "#   # print(np.percentile(house_df[numeric_features[i]],[25,75]))\n",
    "#   # print(house_df[numeric_features[i]].min(), house_df[numeric_features[i]].max())\n",
    "#   q1, q3 = np.percentile(house_df[numeric_features[i]], [25,75])\n",
    "#   outlier = house_df[(house_df[numeric_features[i]]< q1)|(house_df[numeric_features[i]]>q3)]\n",
    "#   if outlier.shape[0] < 20:\n",
    "#     house_df.drop(outlier.index, axis=0, inplace= True)\n",
    "#     print(\"drop\")"
   ]
  },
  {
   "cell_type": "markdown",
   "metadata": {},
   "source": [
    "#### 이상값"
   ]
  },
  {
   "cell_type": "markdown",
   "metadata": {},
   "source": [
    "### train test split"
   ]
  },
  {
   "cell_type": "code",
   "execution_count": 15,
   "metadata": {},
   "outputs": [],
   "source": [
    "# from sklearn.linear_model import LinearRegression, Ridge, Lasso\n",
    "# from sklearn.model_selection import train_test_split\n",
    "# from sklearn.metrics import mean_squared_error"
   ]
  },
  {
   "cell_type": "code",
   "execution_count": 16,
   "metadata": {},
   "outputs": [],
   "source": [
    "y_target = house_df_ohe['SalePrice']\n",
    "X_features = house_df_ohe.drop('SalePrice',axis=1, inplace=False)\n",
    "\n",
    "X_train, X_test, y_train, y_test = train_test_split(X_features, y_target, test_size=0.2, random_state=610)"
   ]
  },
  {
   "cell_type": "markdown",
   "metadata": {},
   "source": [
    "### def rmse"
   ]
  },
  {
   "cell_type": "code",
   "execution_count": 17,
   "metadata": {},
   "outputs": [],
   "source": [
    "# def get_rmse(model):\n",
    "#     pred = model.predict(X_test)\n",
    "#     mse = mean_squared_error(y_test , pred)\n",
    "#     rmse = np.sqrt(mse)\n",
    "#     print('{0} 로그 변환된 RMSE: {1}'.format(model.__class__.__name__, np.round(rmse, 4)))\n",
    "#     return rmse\n",
    "\n",
    "# def get_rmses(models):\n",
    "#     rmses = [ ]\n",
    "#     for model in models:\n",
    "#         rmse = get_rmse(model)\n",
    "#         rmses.append(rmse)\n",
    "#     return rmses"
   ]
  },
  {
   "cell_type": "code",
   "execution_count": 18,
   "metadata": {},
   "outputs": [],
   "source": [
    "### 모델 학습 "
   ]
  },
  {
   "cell_type": "code",
   "execution_count": 19,
   "metadata": {},
   "outputs": [],
   "source": [
    "# # LinearRegression, Ridge, Lasso 학습, 예측, 평가\n",
    "# lr_reg = LinearRegression()\n",
    "# lr_reg.fit(X_train, y_train)\n",
    "\n",
    "# ridge_reg = Ridge()\n",
    "# ridge_reg.fit(X_train, y_train)\n",
    "\n",
    "# \n",
    "# lasso_reg.fit(X_train, y_train)\n",
    "\n",
    "# models = [lr_reg, ridge_reg, lasso_reg]\n",
    "# get_rmses(models)\n",
    "\n",
    "lr = LinearRegression()\n",
    "ridge = Ridge()\n",
    "lasso = Lasso()\n",
    "xgb = XGBRegressor()\n",
    "\n",
    "models = [lr, ridge, lasso, xgb]"
   ]
  },
  {
   "cell_type": "code",
   "execution_count": 20,
   "metadata": {},
   "outputs": [
    {
     "name": "stdout",
     "output_type": "stream",
     "text": [
      "LinearRegression() 0.133\n",
      "Ridge() 0.136\n",
      "Lasso() 0.191\n",
      "XGBRegressor(base_score=0.5, booster='gbtree', colsample_bylevel=1,\n",
      "             colsample_bynode=1, colsample_bytree=1, gamma=0, gpu_id=-1,\n",
      "             importance_type='gain', interaction_constraints='',\n",
      "             learning_rate=0.300000012, max_delta_step=0, max_depth=6,\n",
      "             min_child_weight=1, missing=nan, monotone_constraints='()',\n",
      "             n_estimators=100, n_jobs=4, num_parallel_tree=1, random_state=0,\n",
      "             reg_alpha=0, reg_lambda=1, scale_pos_weight=1, subsample=1,\n",
      "             tree_method='exact', validate_parameters=1, verbosity=None) 0.146\n"
     ]
    }
   ],
   "source": [
    "for model in models:\n",
    "    model.fit(X_train,y_train)\n",
    "    pred= model.predict(X_test)\n",
    "    mse = mean_squared_error(y_test,pred)\n",
    "    rmse=np.sqrt(mse)\n",
    "    print(model, np.round(rmse,3))\n",
    "\n",
    "# pred= model.predict(test)\n",
    "# pred = np.expm1(pred)"
   ]
  },
  {
   "cell_type": "code",
   "execution_count": 33,
   "metadata": {},
   "outputs": [
    {
     "name": "stdout",
     "output_type": "stream",
     "text": [
      "(292,)\n",
      "[207461.80610433 214203.37034805 188307.64026171 208628.51172228\n",
      " 239532.90495417]\n"
     ]
    }
   ],
   "source": [
    "model = LinearRegression()\n",
    "model.fit(X_train,y_train)\n",
    "pred= model.predict(X_test)\n",
    "print(pred.shape)\n",
    "pred=np.expm1(pred)\n",
    "print(pred[:5])"
   ]
  },
  {
   "cell_type": "code",
   "execution_count": 34,
   "metadata": {},
   "outputs": [
    {
     "name": "stdout",
     "output_type": "stream",
     "text": [
      "(292, 2)\n",
      "     Id      SalePrice\n",
      "0  1461  207461.806104\n",
      "1  1462  214203.370348\n",
      "2  1463  188307.640262\n",
      "3  1464  208628.511722\n",
      "4  1465  239532.904954\n"
     ]
    }
   ],
   "source": [
    "sub_df=pd.read_csv(\"sample_submission.csv\")\n",
    "sub_df2 = sub_df.iloc[:292].copy()\n",
    "sub_df2['SalePrice'] = pred\n",
    "print(sub_df2.shape)\n",
    "print(sub_df2.head())\n",
    "\n",
    "# sub_df['SalePrice'] = pred\n",
    "# print(sub_df.shape)\n",
    "# print(sub_df.head())\n",
    "\n",
    "\n",
    "sub_df2.to_csv(\"dddd.csv\", index=False)"
   ]
  }
 ],
 "metadata": {
  "kernelspec": {
   "display_name": "Python 3",
   "language": "python",
   "name": "python3"
  },
  "language_info": {
   "codemirror_mode": {
    "name": "ipython",
    "version": 3
   },
   "file_extension": ".py",
   "mimetype": "text/x-python",
   "name": "python",
   "nbconvert_exporter": "python",
   "pygments_lexer": "ipython3",
   "version": "3.8.5"
  }
 },
 "nbformat": 4,
 "nbformat_minor": 4
}
