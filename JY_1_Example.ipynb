{
  "nbformat": 4,
  "nbformat_minor": 0,
  "metadata": {
    "colab": {
      "name": "JY_1_Example.py",
      "provenance": [],
      "mount_file_id": "1nMLIOYOPzePJ4HV8LHHRoNgqmiSnGV-G",
      "authorship_tag": "ABX9TyMJq7sKEzvXlTYUm0xwx64D",
      "include_colab_link": true
    },
    "kernelspec": {
      "name": "python3",
      "display_name": "Python 3"
    },
    "language_info": {
      "name": "python"
    }
  },
  "cells": [
    {
      "cell_type": "markdown",
      "metadata": {
        "id": "view-in-github",
        "colab_type": "text"
      },
      "source": [
        "<a href=\"https://colab.research.google.com/github/realyou0312/Bigdata-Gisa/blob/main/JY_1_Example.ipynb\" target=\"_parent\"><img src=\"https://colab.research.google.com/assets/colab-badge.svg\" alt=\"Open In Colab\"/></a>"
      ]
    },
    {
      "cell_type": "code",
      "metadata": {
        "id": "G2sPZL2FI4xP"
      },
      "source": [
        "import numpy as np\n",
        "import pandas as pd\n",
        "import matplotlib.pyplot as plt\n",
        "\n",
        "from sklearn.model_selection import train_test_split, GridSearchCV, StratifiedKFold\n",
        "from sklearn.preprocessing import MinMaxScaler, StandardScaler\n",
        "\n",
        "from imblearn.over_sampling import SMOTE\n",
        "from sklearn.ensemble import RandomForestClassifier\n",
        "from sklearn.metrics import classification_report, roc_auc_score, roc_curve\n",
        "from sklearn.ensemble import RandomForestClassifier"
      ],
      "execution_count": 39,
      "outputs": []
    },
    {
      "cell_type": "code",
      "metadata": {
        "id": "YmzQerF-nv2d"
      },
      "source": [
        "path = '/content/drive/MyDrive/빅분기 실기/예제문제/'\n",
        "df = pd.read_csv(path + 'mtcars.csv',index_col=0)"
      ],
      "execution_count": 2,
      "outputs": []
    },
    {
      "cell_type": "markdown",
      "metadata": {
        "id": "avF0ZSrNoKKu"
      },
      "source": [
        "## 1. mtcars 데이터셋(mtcars.csv)의 qsec 컬럼을 최소 최대 척도(min-max scale)로 변환한 후 0.5보다 큰 값을 가지는 레코드 수를 구하시오."
      ]
    },
    {
      "cell_type": "code",
      "metadata": {
        "id": "NldPvJO_oArX",
        "colab": {
          "base_uri": "https://localhost:8080/"
        },
        "outputId": "c745d28b-0a23-4bb5-8958-aaec0d710f23"
      },
      "source": [
        "scaler = MinMaxScaler()\n",
        "train = df['qsec'].values.reshape(-1,1)\n",
        "minmax = scaler.fit_transform(train)\n",
        "np.count_nonzero(minmax > 0.5)"
      ],
      "execution_count": 3,
      "outputs": [
        {
          "output_type": "execute_result",
          "data": {
            "text/plain": [
              "9"
            ]
          },
          "metadata": {
            "tags": []
          },
          "execution_count": 3
        }
      ]
    },
    {
      "cell_type": "code",
      "metadata": {
        "id": "ggG22DZpotcH",
        "colab": {
          "base_uri": "https://localhost:8080/"
        },
        "outputId": "74025790-f9c6-44a0-e3bc-24220164fa67"
      },
      "source": [
        "temp = df['qsec']\n",
        "minmax = (temp - temp.min(axis=0)) / (temp.max(axis=0) - temp.min(axis=0))\n",
        "\n",
        "num = len(minmax[minmax>0.5])\n",
        "num"
      ],
      "execution_count": 4,
      "outputs": [
        {
          "output_type": "execute_result",
          "data": {
            "text/plain": [
              "9"
            ]
          },
          "metadata": {
            "tags": []
          },
          "execution_count": 4
        }
      ]
    },
    {
      "cell_type": "markdown",
      "metadata": {
        "id": "xbSvC9fc1MGT"
      },
      "source": [
        "## 2. 분석문제"
      ]
    },
    {
      "cell_type": "code",
      "metadata": {
        "id": "zPhPmY2WpGCH"
      },
      "source": [
        "y_train = pd.read_csv(path + 'y_train.csv')\n",
        "X_train = pd.read_csv(path + 'X_train.csv',encoding='euc-kr')\n",
        "test  = pd.read_csv(path + 'X_test.csv',encoding='euc-kr')"
      ],
      "execution_count": 5,
      "outputs": []
    },
    {
      "cell_type": "code",
      "metadata": {
        "id": "UjvSyY7FIy8d",
        "colab": {
          "base_uri": "https://localhost:8080/",
          "height": 419
        },
        "outputId": "a29402e0-02a5-4d58-eae9-7a248458e147"
      },
      "source": [
        "X_train"
      ],
      "execution_count": 6,
      "outputs": [
        {
          "output_type": "execute_result",
          "data": {
            "text/html": [
              "<div>\n",
              "<style scoped>\n",
              "    .dataframe tbody tr th:only-of-type {\n",
              "        vertical-align: middle;\n",
              "    }\n",
              "\n",
              "    .dataframe tbody tr th {\n",
              "        vertical-align: top;\n",
              "    }\n",
              "\n",
              "    .dataframe thead th {\n",
              "        text-align: right;\n",
              "    }\n",
              "</style>\n",
              "<table border=\"1\" class=\"dataframe\">\n",
              "  <thead>\n",
              "    <tr style=\"text-align: right;\">\n",
              "      <th></th>\n",
              "      <th>cust_id</th>\n",
              "      <th>총구매액</th>\n",
              "      <th>최대구매액</th>\n",
              "      <th>환불금액</th>\n",
              "      <th>주구매상품</th>\n",
              "      <th>주구매지점</th>\n",
              "      <th>내점일수</th>\n",
              "      <th>내점당구매건수</th>\n",
              "      <th>주말방문비율</th>\n",
              "      <th>구매주기</th>\n",
              "    </tr>\n",
              "  </thead>\n",
              "  <tbody>\n",
              "    <tr>\n",
              "      <th>0</th>\n",
              "      <td>0</td>\n",
              "      <td>68282840</td>\n",
              "      <td>11264000</td>\n",
              "      <td>6860000.0</td>\n",
              "      <td>기타</td>\n",
              "      <td>강남점</td>\n",
              "      <td>19</td>\n",
              "      <td>3.894737</td>\n",
              "      <td>0.527027</td>\n",
              "      <td>17</td>\n",
              "    </tr>\n",
              "    <tr>\n",
              "      <th>1</th>\n",
              "      <td>1</td>\n",
              "      <td>2136000</td>\n",
              "      <td>2136000</td>\n",
              "      <td>300000.0</td>\n",
              "      <td>스포츠</td>\n",
              "      <td>잠실점</td>\n",
              "      <td>2</td>\n",
              "      <td>1.500000</td>\n",
              "      <td>0.000000</td>\n",
              "      <td>1</td>\n",
              "    </tr>\n",
              "    <tr>\n",
              "      <th>2</th>\n",
              "      <td>2</td>\n",
              "      <td>3197000</td>\n",
              "      <td>1639000</td>\n",
              "      <td>NaN</td>\n",
              "      <td>남성 캐주얼</td>\n",
              "      <td>관악점</td>\n",
              "      <td>2</td>\n",
              "      <td>2.000000</td>\n",
              "      <td>0.000000</td>\n",
              "      <td>1</td>\n",
              "    </tr>\n",
              "    <tr>\n",
              "      <th>3</th>\n",
              "      <td>3</td>\n",
              "      <td>16077620</td>\n",
              "      <td>4935000</td>\n",
              "      <td>NaN</td>\n",
              "      <td>기타</td>\n",
              "      <td>광주점</td>\n",
              "      <td>18</td>\n",
              "      <td>2.444444</td>\n",
              "      <td>0.318182</td>\n",
              "      <td>16</td>\n",
              "    </tr>\n",
              "    <tr>\n",
              "      <th>4</th>\n",
              "      <td>4</td>\n",
              "      <td>29050000</td>\n",
              "      <td>24000000</td>\n",
              "      <td>NaN</td>\n",
              "      <td>보석</td>\n",
              "      <td>본  점</td>\n",
              "      <td>2</td>\n",
              "      <td>1.500000</td>\n",
              "      <td>0.000000</td>\n",
              "      <td>85</td>\n",
              "    </tr>\n",
              "    <tr>\n",
              "      <th>...</th>\n",
              "      <td>...</td>\n",
              "      <td>...</td>\n",
              "      <td>...</td>\n",
              "      <td>...</td>\n",
              "      <td>...</td>\n",
              "      <td>...</td>\n",
              "      <td>...</td>\n",
              "      <td>...</td>\n",
              "      <td>...</td>\n",
              "      <td>...</td>\n",
              "    </tr>\n",
              "    <tr>\n",
              "      <th>3495</th>\n",
              "      <td>3495</td>\n",
              "      <td>3175200</td>\n",
              "      <td>3042900</td>\n",
              "      <td>NaN</td>\n",
              "      <td>골프</td>\n",
              "      <td>본  점</td>\n",
              "      <td>1</td>\n",
              "      <td>2.000000</td>\n",
              "      <td>1.000000</td>\n",
              "      <td>0</td>\n",
              "    </tr>\n",
              "    <tr>\n",
              "      <th>3496</th>\n",
              "      <td>3496</td>\n",
              "      <td>29628600</td>\n",
              "      <td>7200000</td>\n",
              "      <td>6049600.0</td>\n",
              "      <td>시티웨어</td>\n",
              "      <td>부산본점</td>\n",
              "      <td>8</td>\n",
              "      <td>1.625000</td>\n",
              "      <td>0.461538</td>\n",
              "      <td>40</td>\n",
              "    </tr>\n",
              "    <tr>\n",
              "      <th>3497</th>\n",
              "      <td>3497</td>\n",
              "      <td>75000</td>\n",
              "      <td>75000</td>\n",
              "      <td>NaN</td>\n",
              "      <td>주방용품</td>\n",
              "      <td>창원점</td>\n",
              "      <td>1</td>\n",
              "      <td>1.000000</td>\n",
              "      <td>0.000000</td>\n",
              "      <td>0</td>\n",
              "    </tr>\n",
              "    <tr>\n",
              "      <th>3498</th>\n",
              "      <td>3498</td>\n",
              "      <td>1875000</td>\n",
              "      <td>1000000</td>\n",
              "      <td>NaN</td>\n",
              "      <td>화장품</td>\n",
              "      <td>본  점</td>\n",
              "      <td>2</td>\n",
              "      <td>1.000000</td>\n",
              "      <td>0.000000</td>\n",
              "      <td>39</td>\n",
              "    </tr>\n",
              "    <tr>\n",
              "      <th>3499</th>\n",
              "      <td>3499</td>\n",
              "      <td>263101550</td>\n",
              "      <td>34632000</td>\n",
              "      <td>5973000.0</td>\n",
              "      <td>기타</td>\n",
              "      <td>본  점</td>\n",
              "      <td>38</td>\n",
              "      <td>2.421053</td>\n",
              "      <td>0.467391</td>\n",
              "      <td>8</td>\n",
              "    </tr>\n",
              "  </tbody>\n",
              "</table>\n",
              "<p>3500 rows × 10 columns</p>\n",
              "</div>"
            ],
            "text/plain": [
              "      cust_id       총구매액     최대구매액       환불금액  ... 내점일수   내점당구매건수    주말방문비율  구매주기\n",
              "0           0   68282840  11264000  6860000.0  ...   19  3.894737  0.527027    17\n",
              "1           1    2136000   2136000   300000.0  ...    2  1.500000  0.000000     1\n",
              "2           2    3197000   1639000        NaN  ...    2  2.000000  0.000000     1\n",
              "3           3   16077620   4935000        NaN  ...   18  2.444444  0.318182    16\n",
              "4           4   29050000  24000000        NaN  ...    2  1.500000  0.000000    85\n",
              "...       ...        ...       ...        ...  ...  ...       ...       ...   ...\n",
              "3495     3495    3175200   3042900        NaN  ...    1  2.000000  1.000000     0\n",
              "3496     3496   29628600   7200000  6049600.0  ...    8  1.625000  0.461538    40\n",
              "3497     3497      75000     75000        NaN  ...    1  1.000000  0.000000     0\n",
              "3498     3498    1875000   1000000        NaN  ...    2  1.000000  0.000000    39\n",
              "3499     3499  263101550  34632000  5973000.0  ...   38  2.421053  0.467391     8\n",
              "\n",
              "[3500 rows x 10 columns]"
            ]
          },
          "metadata": {
            "tags": []
          },
          "execution_count": 6
        }
      ]
    },
    {
      "cell_type": "code",
      "metadata": {
        "id": "VgUMwg8_I3W-",
        "colab": {
          "base_uri": "https://localhost:8080/",
          "height": 419
        },
        "outputId": "26d1a853-32ef-4bb5-f246-a9ec3f428df7"
      },
      "source": [
        "y_train"
      ],
      "execution_count": 7,
      "outputs": [
        {
          "output_type": "execute_result",
          "data": {
            "text/html": [
              "<div>\n",
              "<style scoped>\n",
              "    .dataframe tbody tr th:only-of-type {\n",
              "        vertical-align: middle;\n",
              "    }\n",
              "\n",
              "    .dataframe tbody tr th {\n",
              "        vertical-align: top;\n",
              "    }\n",
              "\n",
              "    .dataframe thead th {\n",
              "        text-align: right;\n",
              "    }\n",
              "</style>\n",
              "<table border=\"1\" class=\"dataframe\">\n",
              "  <thead>\n",
              "    <tr style=\"text-align: right;\">\n",
              "      <th></th>\n",
              "      <th>cust_id</th>\n",
              "      <th>gender</th>\n",
              "    </tr>\n",
              "  </thead>\n",
              "  <tbody>\n",
              "    <tr>\n",
              "      <th>0</th>\n",
              "      <td>0</td>\n",
              "      <td>0</td>\n",
              "    </tr>\n",
              "    <tr>\n",
              "      <th>1</th>\n",
              "      <td>1</td>\n",
              "      <td>0</td>\n",
              "    </tr>\n",
              "    <tr>\n",
              "      <th>2</th>\n",
              "      <td>2</td>\n",
              "      <td>1</td>\n",
              "    </tr>\n",
              "    <tr>\n",
              "      <th>3</th>\n",
              "      <td>3</td>\n",
              "      <td>1</td>\n",
              "    </tr>\n",
              "    <tr>\n",
              "      <th>4</th>\n",
              "      <td>4</td>\n",
              "      <td>0</td>\n",
              "    </tr>\n",
              "    <tr>\n",
              "      <th>...</th>\n",
              "      <td>...</td>\n",
              "      <td>...</td>\n",
              "    </tr>\n",
              "    <tr>\n",
              "      <th>3495</th>\n",
              "      <td>3495</td>\n",
              "      <td>1</td>\n",
              "    </tr>\n",
              "    <tr>\n",
              "      <th>3496</th>\n",
              "      <td>3496</td>\n",
              "      <td>1</td>\n",
              "    </tr>\n",
              "    <tr>\n",
              "      <th>3497</th>\n",
              "      <td>3497</td>\n",
              "      <td>0</td>\n",
              "    </tr>\n",
              "    <tr>\n",
              "      <th>3498</th>\n",
              "      <td>3498</td>\n",
              "      <td>0</td>\n",
              "    </tr>\n",
              "    <tr>\n",
              "      <th>3499</th>\n",
              "      <td>3499</td>\n",
              "      <td>0</td>\n",
              "    </tr>\n",
              "  </tbody>\n",
              "</table>\n",
              "<p>3500 rows × 2 columns</p>\n",
              "</div>"
            ],
            "text/plain": [
              "      cust_id  gender\n",
              "0           0       0\n",
              "1           1       0\n",
              "2           2       1\n",
              "3           3       1\n",
              "4           4       0\n",
              "...       ...     ...\n",
              "3495     3495       1\n",
              "3496     3496       1\n",
              "3497     3497       0\n",
              "3498     3498       0\n",
              "3499     3499       0\n",
              "\n",
              "[3500 rows x 2 columns]"
            ]
          },
          "metadata": {
            "tags": []
          },
          "execution_count": 7
        }
      ]
    },
    {
      "cell_type": "code",
      "metadata": {
        "id": "UQpvBmm82vRZ"
      },
      "source": [
        "train = pd.merge(y_train,X_train) # 공통 열 묶임"
      ],
      "execution_count": 8,
      "outputs": []
    },
    {
      "cell_type": "code",
      "metadata": {
        "id": "UsbvYmV2I_VF",
        "colab": {
          "base_uri": "https://localhost:8080/",
          "height": 419
        },
        "outputId": "0c047a62-1a1a-4a5e-b919-1f2c97d9aa25"
      },
      "source": [
        "train"
      ],
      "execution_count": 9,
      "outputs": [
        {
          "output_type": "execute_result",
          "data": {
            "text/html": [
              "<div>\n",
              "<style scoped>\n",
              "    .dataframe tbody tr th:only-of-type {\n",
              "        vertical-align: middle;\n",
              "    }\n",
              "\n",
              "    .dataframe tbody tr th {\n",
              "        vertical-align: top;\n",
              "    }\n",
              "\n",
              "    .dataframe thead th {\n",
              "        text-align: right;\n",
              "    }\n",
              "</style>\n",
              "<table border=\"1\" class=\"dataframe\">\n",
              "  <thead>\n",
              "    <tr style=\"text-align: right;\">\n",
              "      <th></th>\n",
              "      <th>cust_id</th>\n",
              "      <th>gender</th>\n",
              "      <th>총구매액</th>\n",
              "      <th>최대구매액</th>\n",
              "      <th>환불금액</th>\n",
              "      <th>주구매상품</th>\n",
              "      <th>주구매지점</th>\n",
              "      <th>내점일수</th>\n",
              "      <th>내점당구매건수</th>\n",
              "      <th>주말방문비율</th>\n",
              "      <th>구매주기</th>\n",
              "    </tr>\n",
              "  </thead>\n",
              "  <tbody>\n",
              "    <tr>\n",
              "      <th>0</th>\n",
              "      <td>0</td>\n",
              "      <td>0</td>\n",
              "      <td>68282840</td>\n",
              "      <td>11264000</td>\n",
              "      <td>6860000.0</td>\n",
              "      <td>기타</td>\n",
              "      <td>강남점</td>\n",
              "      <td>19</td>\n",
              "      <td>3.894737</td>\n",
              "      <td>0.527027</td>\n",
              "      <td>17</td>\n",
              "    </tr>\n",
              "    <tr>\n",
              "      <th>1</th>\n",
              "      <td>1</td>\n",
              "      <td>0</td>\n",
              "      <td>2136000</td>\n",
              "      <td>2136000</td>\n",
              "      <td>300000.0</td>\n",
              "      <td>스포츠</td>\n",
              "      <td>잠실점</td>\n",
              "      <td>2</td>\n",
              "      <td>1.500000</td>\n",
              "      <td>0.000000</td>\n",
              "      <td>1</td>\n",
              "    </tr>\n",
              "    <tr>\n",
              "      <th>2</th>\n",
              "      <td>2</td>\n",
              "      <td>1</td>\n",
              "      <td>3197000</td>\n",
              "      <td>1639000</td>\n",
              "      <td>NaN</td>\n",
              "      <td>남성 캐주얼</td>\n",
              "      <td>관악점</td>\n",
              "      <td>2</td>\n",
              "      <td>2.000000</td>\n",
              "      <td>0.000000</td>\n",
              "      <td>1</td>\n",
              "    </tr>\n",
              "    <tr>\n",
              "      <th>3</th>\n",
              "      <td>3</td>\n",
              "      <td>1</td>\n",
              "      <td>16077620</td>\n",
              "      <td>4935000</td>\n",
              "      <td>NaN</td>\n",
              "      <td>기타</td>\n",
              "      <td>광주점</td>\n",
              "      <td>18</td>\n",
              "      <td>2.444444</td>\n",
              "      <td>0.318182</td>\n",
              "      <td>16</td>\n",
              "    </tr>\n",
              "    <tr>\n",
              "      <th>4</th>\n",
              "      <td>4</td>\n",
              "      <td>0</td>\n",
              "      <td>29050000</td>\n",
              "      <td>24000000</td>\n",
              "      <td>NaN</td>\n",
              "      <td>보석</td>\n",
              "      <td>본  점</td>\n",
              "      <td>2</td>\n",
              "      <td>1.500000</td>\n",
              "      <td>0.000000</td>\n",
              "      <td>85</td>\n",
              "    </tr>\n",
              "    <tr>\n",
              "      <th>...</th>\n",
              "      <td>...</td>\n",
              "      <td>...</td>\n",
              "      <td>...</td>\n",
              "      <td>...</td>\n",
              "      <td>...</td>\n",
              "      <td>...</td>\n",
              "      <td>...</td>\n",
              "      <td>...</td>\n",
              "      <td>...</td>\n",
              "      <td>...</td>\n",
              "      <td>...</td>\n",
              "    </tr>\n",
              "    <tr>\n",
              "      <th>3495</th>\n",
              "      <td>3495</td>\n",
              "      <td>1</td>\n",
              "      <td>3175200</td>\n",
              "      <td>3042900</td>\n",
              "      <td>NaN</td>\n",
              "      <td>골프</td>\n",
              "      <td>본  점</td>\n",
              "      <td>1</td>\n",
              "      <td>2.000000</td>\n",
              "      <td>1.000000</td>\n",
              "      <td>0</td>\n",
              "    </tr>\n",
              "    <tr>\n",
              "      <th>3496</th>\n",
              "      <td>3496</td>\n",
              "      <td>1</td>\n",
              "      <td>29628600</td>\n",
              "      <td>7200000</td>\n",
              "      <td>6049600.0</td>\n",
              "      <td>시티웨어</td>\n",
              "      <td>부산본점</td>\n",
              "      <td>8</td>\n",
              "      <td>1.625000</td>\n",
              "      <td>0.461538</td>\n",
              "      <td>40</td>\n",
              "    </tr>\n",
              "    <tr>\n",
              "      <th>3497</th>\n",
              "      <td>3497</td>\n",
              "      <td>0</td>\n",
              "      <td>75000</td>\n",
              "      <td>75000</td>\n",
              "      <td>NaN</td>\n",
              "      <td>주방용품</td>\n",
              "      <td>창원점</td>\n",
              "      <td>1</td>\n",
              "      <td>1.000000</td>\n",
              "      <td>0.000000</td>\n",
              "      <td>0</td>\n",
              "    </tr>\n",
              "    <tr>\n",
              "      <th>3498</th>\n",
              "      <td>3498</td>\n",
              "      <td>0</td>\n",
              "      <td>1875000</td>\n",
              "      <td>1000000</td>\n",
              "      <td>NaN</td>\n",
              "      <td>화장품</td>\n",
              "      <td>본  점</td>\n",
              "      <td>2</td>\n",
              "      <td>1.000000</td>\n",
              "      <td>0.000000</td>\n",
              "      <td>39</td>\n",
              "    </tr>\n",
              "    <tr>\n",
              "      <th>3499</th>\n",
              "      <td>3499</td>\n",
              "      <td>0</td>\n",
              "      <td>263101550</td>\n",
              "      <td>34632000</td>\n",
              "      <td>5973000.0</td>\n",
              "      <td>기타</td>\n",
              "      <td>본  점</td>\n",
              "      <td>38</td>\n",
              "      <td>2.421053</td>\n",
              "      <td>0.467391</td>\n",
              "      <td>8</td>\n",
              "    </tr>\n",
              "  </tbody>\n",
              "</table>\n",
              "<p>3500 rows × 11 columns</p>\n",
              "</div>"
            ],
            "text/plain": [
              "      cust_id  gender       총구매액     최대구매액  ...  내점일수   내점당구매건수    주말방문비율  구매주기\n",
              "0           0       0   68282840  11264000  ...    19  3.894737  0.527027    17\n",
              "1           1       0    2136000   2136000  ...     2  1.500000  0.000000     1\n",
              "2           2       1    3197000   1639000  ...     2  2.000000  0.000000     1\n",
              "3           3       1   16077620   4935000  ...    18  2.444444  0.318182    16\n",
              "4           4       0   29050000  24000000  ...     2  1.500000  0.000000    85\n",
              "...       ...     ...        ...       ...  ...   ...       ...       ...   ...\n",
              "3495     3495       1    3175200   3042900  ...     1  2.000000  1.000000     0\n",
              "3496     3496       1   29628600   7200000  ...     8  1.625000  0.461538    40\n",
              "3497     3497       0      75000     75000  ...     1  1.000000  0.000000     0\n",
              "3498     3498       0    1875000   1000000  ...     2  1.000000  0.000000    39\n",
              "3499     3499       0  263101550  34632000  ...    38  2.421053  0.467391     8\n",
              "\n",
              "[3500 rows x 11 columns]"
            ]
          },
          "metadata": {
            "tags": []
          },
          "execution_count": 9
        }
      ]
    },
    {
      "cell_type": "markdown",
      "metadata": {
        "id": "ag6Yt1bGLi8Y"
      },
      "source": [
        "## Null 처리"
      ]
    },
    {
      "cell_type": "code",
      "metadata": {
        "id": "F3ctb6kI199j",
        "colab": {
          "base_uri": "https://localhost:8080/"
        },
        "outputId": "e9433d4a-b022-452d-bd88-1f4bd83f7c17"
      },
      "source": [
        "train.isnull().sum()"
      ],
      "execution_count": 10,
      "outputs": [
        {
          "output_type": "execute_result",
          "data": {
            "text/plain": [
              "cust_id       0\n",
              "gender        0\n",
              "총구매액          0\n",
              "최대구매액         0\n",
              "환불금액       2295\n",
              "주구매상품         0\n",
              "주구매지점         0\n",
              "내점일수          0\n",
              "내점당구매건수       0\n",
              "주말방문비율        0\n",
              "구매주기          0\n",
              "dtype: int64"
            ]
          },
          "metadata": {
            "tags": []
          },
          "execution_count": 10
        }
      ]
    },
    {
      "cell_type": "code",
      "metadata": {
        "id": "EjoqT6NL2XUp",
        "colab": {
          "base_uri": "https://localhost:8080/"
        },
        "outputId": "6c8bd6a7-86d8-4d0f-9709-144f9bc2b346"
      },
      "source": [
        "train[train['환불금액'].isnull()].gender.value_counts()"
      ],
      "execution_count": 11,
      "outputs": [
        {
          "output_type": "execute_result",
          "data": {
            "text/plain": [
              "0    1269\n",
              "1    1026\n",
              "Name: gender, dtype: int64"
            ]
          },
          "metadata": {
            "tags": []
          },
          "execution_count": 11
        }
      ]
    },
    {
      "cell_type": "code",
      "metadata": {
        "id": "dN5fTjFc2lbA"
      },
      "source": [
        "#환불금액 null -> 환불금액 없다는 뜻 -> 0 대체\n",
        "train['환불금액'] =train['환불금액'].fillna(0)\n",
        "test['환불금액'] = test['환불금액'].fillna(0)"
      ],
      "execution_count": 12,
      "outputs": []
    },
    {
      "cell_type": "code",
      "metadata": {
        "id": "NVQEJqaeL2tq",
        "colab": {
          "base_uri": "https://localhost:8080/"
        },
        "outputId": "fa2d1379-480d-45f1-b478-fce07f334267"
      },
      "source": [
        " train['주구매상품'].value_counts()"
      ],
      "execution_count": 13,
      "outputs": [
        {
          "output_type": "execute_result",
          "data": {
            "text/plain": [
              "기타        595\n",
              "가공식품      546\n",
              "농산물       339\n",
              "화장품       264\n",
              "시티웨어      213\n",
              "디자이너      193\n",
              "수산품       153\n",
              "캐주얼       101\n",
              "명품        100\n",
              "섬유잡화       98\n",
              "골프         82\n",
              "스포츠        69\n",
              "일용잡화       64\n",
              "모피/피혁      57\n",
              "육류         57\n",
              "남성 캐주얼     55\n",
              "구두         54\n",
              "건강식품       47\n",
              "차/커피       44\n",
              "아동         40\n",
              "피혁잡화       40\n",
              "축산가공       35\n",
              "주방용품       32\n",
              "셔츠         30\n",
              "젓갈/반찬      29\n",
              "주방가전       26\n",
              "트래디셔널      23\n",
              "남성정장       22\n",
              "생활잡화       15\n",
              "주류         14\n",
              "가구         10\n",
              "커리어         9\n",
              "대형가전        8\n",
              "란제리/내의      8\n",
              "식기          7\n",
              "액세서리        5\n",
              "침구/수예       4\n",
              "통신/컴퓨터      3\n",
              "보석          3\n",
              "악기          2\n",
              "소형가전        2\n",
              "남성 트랜디      2\n",
              "Name: 주구매상품, dtype: int64"
            ]
          },
          "metadata": {
            "tags": []
          },
          "execution_count": 13
        }
      ]
    },
    {
      "cell_type": "markdown",
      "metadata": {
        "id": "_UjxoqjhdDqa"
      },
      "source": [
        "## 이상치 확인 -> 그냥해봄"
      ]
    },
    {
      "cell_type": "code",
      "metadata": {
        "id": "W8lfAW-rVn9j"
      },
      "source": [
        "numerical_feats = ['총구매액', '최대구매액', '환불금액', '내점일수', '내점당구매건수', '주말방문비율', '구매주기']"
      ],
      "execution_count": 14,
      "outputs": []
    },
    {
      "cell_type": "code",
      "metadata": {
        "id": "8JZiEKHNXuqI"
      },
      "source": [
        "t= train.copy()"
      ],
      "execution_count": 18,
      "outputs": []
    },
    {
      "cell_type": "code",
      "metadata": {
        "id": "2bDIfQVRd0pT",
        "colab": {
          "base_uri": "https://localhost:8080/",
          "height": 1000
        },
        "outputId": "3e66788a-d4dd-44e8-f034-6f9e1849d047"
      },
      "source": [
        "for v in numerical_feats:\n",
        "    df = t[[v,'gender']]\n",
        "    \n",
        "    male = df[df.gender==1]\n",
        "    female = df[df.gender==0]\n",
        "    fig, axes = plt.subplots(1,2,figsize=(15,5))\n",
        "    \n",
        "    print(v)\n",
        "    axes[0].hist(male[v],alpha=0.3,color='blue',label='male',bins=40)\n",
        "    axes[0].hist(female[v],alpha=0.3,color='red',label='female',bins=40)\n",
        "    axes[0].legend()\n",
        "    axes[1].boxplot(female[v],positions=[0],widths=0.5)\n",
        "    axes[1].boxplot(male[v],positions=[1],widths=0.5)\n",
        "    axes[1].set_xticklabels(['women','men'])\n",
        "    plt.show()"
      ],
      "execution_count": 19,
      "outputs": [
        {
          "output_type": "stream",
          "text": [
            "총구매액\n"
          ],
          "name": "stdout"
        },
        {
          "output_type": "display_data",
          "data": {
            "image/png": "[encoded data removed]",
            "text/plain": [
              "<Figure size 1080x360 with 2 Axes>"
            ]
          },
          "metadata": {
            "tags": [],
            "needs_background": "light"
          }
        },
        {
          "output_type": "stream",
          "text": [
            "최대구매액\n"
          ],
          "name": "stdout"
        },
        {
          "output_type": "display_data",
          "data": {
            "image/png": "[encoded data removed]",
            "text/plain": [
              "<Figure size 1080x360 with 2 Axes>"
            ]
          },
          "metadata": {
            "tags": [],
            "needs_background": "light"
          }
        },
        {
          "output_type": "stream",
          "text": [
            "환불금액\n"
          ],
          "name": "stdout"
        },
        {
          "output_type": "display_data",
          "data": {
            "image/png": "[encoded data removed]",
            "text/plain": [
              "<Figure size 1080x360 with 2 Axes>"
            ]
          },
          "metadata": {
            "tags": [],
            "needs_background": "light"
          }
        },
        {
          "output_type": "stream",
          "text": [
            "내점일수\n"
          ],
          "name": "stdout"
        },
        {
          "output_type": "display_data",
          "data": {
            "image/png": "[encoded data removed]",
            "text/plain": [
              "<Figure size 1080x360 with 2 Axes>"
            ]
          },
          "metadata": {
            "tags": [],
            "needs_background": "light"
          }
        },
        {
          "output_type": "stream",
          "text": [
            "내점당구매건수\n"
          ],
          "name": "stdout"
        },
        {
          "output_type": "display_data",
          "data": {
            "image/png": "[encoded data removed]",
            "text/plain": [
              "<Figure size 1080x360 with 2 Axes>"
            ]
          },
          "metadata": {
            "tags": [],
            "needs_background": "light"
          }
        },
        {
          "output_type": "stream",
          "text": [
            "주말방문비율\n"
          ],
          "name": "stdout"
        },
        {
          "output_type": "display_data",
          "data": {
            "image/png": "[encoded data removed]",
            "text/plain": [
              "<Figure size 1080x360 with 2 Axes>"
            ]
          },
          "metadata": {
            "tags": [],
            "needs_background": "light"
          }
        },
        {
          "output_type": "stream",
          "text": [
            "구매주기\n"
          ],
          "name": "stdout"
        },
        {
          "output_type": "display_data",
          "data": {
            "image/png": "[encoded data removed]",
            "text/plain": [
              "<Figure size 1080x360 with 2 Axes>"
            ]
          },
          "metadata": {
            "tags": [],
            "needs_background": "light"
          }
        }
      ]
    },
    {
      "cell_type": "markdown",
      "metadata": {
        "id": "PZtox00R1oNj"
      },
      "source": [
        "## Scale / get-dummy / smote / RF Modeling / GSCV"
      ]
    },
    {
      "cell_type": "code",
      "metadata": {
        "id": "t1_1gmlVy5ar"
      },
      "source": [
        "x = train.drop(['cust_id','gender'],axis=1)\n",
        "y = train.gender"
      ],
      "execution_count": 27,
      "outputs": []
    },
    {
      "cell_type": "code",
      "metadata": {
        "id": "fgicQq6t_arL"
      },
      "source": [
        "x_dum = pd.get_dummies(x)\n",
        "test_dum = pd.get_dummies(test)\n",
        "\n",
        "missing_cols = set( x_dum.columns ) - set( test_dum.columns )\n",
        "for c in missing_cols:\n",
        "    test_dum[c] = 0\n",
        "test_dum = test_dum[x_dum.columns]\n"
      ],
      "execution_count": 28,
      "outputs": []
    },
    {
      "cell_type": "code",
      "metadata": {
        "id": "6SsZlEXN_qyJ"
      },
      "source": [
        "scaler = StandardScaler()\n",
        "x_dum = scaler.fit_transform(x_dum)\n",
        "test_dum = scaler.transform(test_dum)"
      ],
      "execution_count": 29,
      "outputs": []
    },
    {
      "cell_type": "code",
      "metadata": {
        "id": "SCs6Kk6c_rFa"
      },
      "source": [
        "X_train, X_test, y_train, y_test = train_test_split(x_dum, y, test_size=0.2, random_state=42, stratify=y)"
      ],
      "execution_count": 30,
      "outputs": []
    },
    {
      "cell_type": "code",
      "metadata": {
        "id": "NSyDP37x_0KO",
        "colab": {
          "base_uri": "https://localhost:8080/"
        },
        "outputId": "6d24a648-dbb5-4f90-9aa0-38b9414b4246"
      },
      "source": [
        "smote = SMOTE(random_state=42)\n",
        "X_train_over,y_train_over = smote.fit_resample(X_train,y_train)"
      ],
      "execution_count": 31,
      "outputs": [
        {
          "output_type": "stream",
          "text": [
            "/usr/local/lib/python3.7/dist-packages/sklearn/utils/deprecation.py:87: FutureWarning: Function safe_indexing is deprecated; safe_indexing is deprecated in version 0.22 and will be removed in version 0.24.\n",
            "  warnings.warn(msg, category=FutureWarning)\n"
          ],
          "name": "stderr"
        }
      ]
    },
    {
      "cell_type": "code",
      "metadata": {
        "id": "8_tYEeP9__ot",
        "colab": {
          "base_uri": "https://localhost:8080/"
        },
        "outputId": "c56d8ae2-1e54-4053-f64a-8e5cf244b814"
      },
      "source": [
        "rf = RandomForestClassifier(max_depth=2, random_state=0)\n",
        "rf.fit(X_train_over, y_train_over)\n",
        "\n",
        "y_pred = rf.predict(X_test)\n",
        "report =classification_report(y_test, y_pred, target_names=['class 0', 'class 1'])\n",
        "print(report)"
      ],
      "execution_count": 32,
      "outputs": [
        {
          "output_type": "stream",
          "text": [
            "              precision    recall  f1-score   support\n",
            "\n",
            "     class 0       0.73      0.49      0.59       437\n",
            "     class 1       0.46      0.70      0.55       263\n",
            "\n",
            "    accuracy                           0.57       700\n",
            "   macro avg       0.60      0.60      0.57       700\n",
            "weighted avg       0.63      0.57      0.58       700\n",
            "\n"
          ],
          "name": "stdout"
        }
      ]
    },
    {
      "cell_type": "code",
      "metadata": {
        "id": "OvJ-j877ADpl",
        "colab": {
          "base_uri": "https://localhost:8080/"
        },
        "outputId": "d1fa73a0-7a4d-41bf-a8d8-c54c5d443b9f"
      },
      "source": [
        "lr_probs = rf.predict_proba(X_test)\n",
        "lr_auc = roc_auc_score(y_test, lr_probs[:,1])\n",
        "lr_auc"
      ],
      "execution_count": 33,
      "outputs": [
        {
          "output_type": "execute_result",
          "data": {
            "text/plain": [
              "0.64508270179499"
            ]
          },
          "metadata": {
            "tags": []
          },
          "execution_count": 33
        }
      ]
    },
    {
      "cell_type": "code",
      "metadata": {
        "id": "-U1ri86EDMZn",
        "colab": {
          "base_uri": "https://localhost:8080/"
        },
        "outputId": "742f6061-e943-429c-9abb-d0ef1d5a0896"
      },
      "source": [
        "skfold = StratifiedKFold(n_splits=10)\n",
        "\n",
        "RF = RandomForestClassifier()\n",
        "\n",
        "\n",
        "## Search grid for optimal parameters\n",
        "rf_param_grid = {\"max_depth\": [None],\n",
        "              \"max_features\": [1, 3, 10],\n",
        "              \"min_samples_split\": [2, 3, 10],\n",
        "              \"min_samples_leaf\": [1, 3, 10],\n",
        "              \"bootstrap\": [False],\n",
        "              \"n_estimators\" :[100,300],\n",
        "              \"criterion\": [\"gini\"]}\n",
        "\n",
        "\n",
        "gsRF = GridSearchCV(RF, param_grid = rf_param_grid, cv=skfold, scoring=\"accuracy\", n_jobs= 4, verbose = 1)\n",
        "gsRF.fit(x_dum,y)\n",
        "RF_best = gsRF.best_estimator_\n",
        "\n",
        "gsRF.best_score_"
      ],
      "execution_count": 40,
      "outputs": [
        {
          "output_type": "stream",
          "text": [
            "Fitting 10 folds for each of 54 candidates, totalling 540 fits\n"
          ],
          "name": "stdout"
        },
        {
          "output_type": "stream",
          "text": [
            "[Parallel(n_jobs=4)]: Using backend LokyBackend with 4 concurrent workers.\n",
            "[Parallel(n_jobs=4)]: Done  42 tasks      | elapsed:   39.0s\n",
            "[Parallel(n_jobs=4)]: Done 192 tasks      | elapsed:  1.6min\n",
            "[Parallel(n_jobs=4)]: Done 442 tasks      | elapsed:  5.2min\n",
            "[Parallel(n_jobs=4)]: Done 540 out of 540 | elapsed:  6.8min finished\n"
          ],
          "name": "stderr"
        },
        {
          "output_type": "execute_result",
          "data": {
            "text/plain": [
              "0.6602857142857143"
            ]
          },
          "metadata": {
            "tags": []
          },
          "execution_count": 40
        }
      ]
    },
    {
      "cell_type": "code",
      "metadata": {
        "colab": {
          "base_uri": "https://localhost:8080/",
          "height": 142
        },
        "id": "ZcpGhD91CC9v",
        "outputId": "c4f420e4-f4bd-4435-da0a-320ebda053a0"
      },
      "source": [
        "test_gender = pd.Series(gsRF.predict_proba(test_dum)[:,1], name=\"gender\")\n",
        "results= pd.concat([test.cust_id,test_gender],axis=1)\n",
        "results.head(3)"
      ],
      "execution_count": 41,
      "outputs": [
        {
          "output_type": "execute_result",
          "data": {
            "text/html": [
              "<div>\n",
              "<style scoped>\n",
              "    .dataframe tbody tr th:only-of-type {\n",
              "        vertical-align: middle;\n",
              "    }\n",
              "\n",
              "    .dataframe tbody tr th {\n",
              "        vertical-align: top;\n",
              "    }\n",
              "\n",
              "    .dataframe thead th {\n",
              "        text-align: right;\n",
              "    }\n",
              "</style>\n",
              "<table border=\"1\" class=\"dataframe\">\n",
              "  <thead>\n",
              "    <tr style=\"text-align: right;\">\n",
              "      <th></th>\n",
              "      <th>cust_id</th>\n",
              "      <th>gender</th>\n",
              "    </tr>\n",
              "  </thead>\n",
              "  <tbody>\n",
              "    <tr>\n",
              "      <th>0</th>\n",
              "      <td>3500</td>\n",
              "      <td>0.424880</td>\n",
              "    </tr>\n",
              "    <tr>\n",
              "      <th>1</th>\n",
              "      <td>3501</td>\n",
              "      <td>0.183917</td>\n",
              "    </tr>\n",
              "    <tr>\n",
              "      <th>2</th>\n",
              "      <td>3502</td>\n",
              "      <td>0.152166</td>\n",
              "    </tr>\n",
              "  </tbody>\n",
              "</table>\n",
              "</div>"
            ],
            "text/plain": [
              "   cust_id    gender\n",
              "0     3500  0.424880\n",
              "1     3501  0.183917\n",
              "2     3502  0.152166"
            ]
          },
          "metadata": {
            "tags": []
          },
          "execution_count": 41
        }
      ]
    },
    {
      "cell_type": "code",
      "metadata": {
        "id": "Ks2NZMIsZQUa"
      },
      "source": [
        "results.to_csv(\"submission.csv\",index=False)"
      ],
      "execution_count": null,
      "outputs": []
    }
  ]
}