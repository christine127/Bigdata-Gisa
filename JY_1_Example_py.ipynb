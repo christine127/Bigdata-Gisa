{
  "nbformat": 4,
  "nbformat_minor": 0,
  "metadata": {
    "colab": {
      "name": "JY_1_Example.py",
      "private_outputs": true,
      "provenance": [],
      "mount_file_id": "1nMLIOYOPzePJ4HV8LHHRoNgqmiSnGV-G",
      "authorship_tag": "ABX9TyMJq7sKEzvXlTYUm0xwx64D",
      "include_colab_link": true
    },
    "kernelspec": {
      "name": "python3",
      "display_name": "Python 3"
    },
    "language_info": {
      "name": "python"
    }
  },
  "cells": [
    {
      "cell_type": "markdown",
      "metadata": {
        "id": "view-in-github",
        "colab_type": "text"
      },
      "source": [
        "<a href=\"https://colab.research.google.com/github/realyou0312/Bigdata-Gisa/blob/main/JY_1_Example_py.ipynb\" target=\"_parent\"><img src=\"https://colab.research.google.com/assets/colab-badge.svg\" alt=\"Open In Colab\"/></a>"
      ]
    },
    {
      "cell_type": "code",
      "metadata": {
        "id": "G2sPZL2FI4xP"
      },
      "source": [
        "import numpy as np\n",
        "import pandas as pd\n",
        "import matplotlib.pyplot as plt\n",
        "\n",
        "from sklearn.model_selection import train_test_split, GridSearchCV, StratifiedKFold\n",
        "from sklearn.preprocessing import MinMaxScaler, StandardScaler\n",
        "\n",
        "from imblearn.over_sampling import SMOTE\n",
        "from sklearn.ensemble import RandomForestClassifier\n",
        "from sklearn.metrics import classification_report, roc_auc_score, roc_curve\n",
        "from sklearn.ensemble import RandomForestClassifier"
      ],
      "execution_count": null,
      "outputs": []
    },
    {
      "cell_type": "code",
      "metadata": {
        "id": "YmzQerF-nv2d"
      },
      "source": [
        "path = '/content/drive/MyDrive/빅분기 실기/예제문제/'\n",
        "df = pd.read_csv(path + 'mtcars.csv',index_col=0)"
      ],
      "execution_count": null,
      "outputs": []
    },
    {
      "cell_type": "markdown",
      "metadata": {
        "id": "avF0ZSrNoKKu"
      },
      "source": [
        "## 1. mtcars 데이터셋(mtcars.csv)의 qsec 컬럼을 최소 최대 척도(min-max scale)로 변환한 후 0.5보다 큰 값을 가지는 레코드 수를 구하시오."
      ]
    },
    {
      "cell_type": "code",
      "metadata": {
        "id": "NldPvJO_oArX"
      },
      "source": [
        "scaler = MinMaxScaler()\n",
        "train = df['qsec'].values.reshape(-1,1)\n",
        "minmax = scaler.fit_transform(train)\n",
        "np.count_nonzero(minmax > 0.5)"
      ],
      "execution_count": null,
      "outputs": []
    },
    {
      "cell_type": "code",
      "metadata": {
        "id": "ggG22DZpotcH"
      },
      "source": [
        "temp = df['qsec']\n",
        "minmax = (temp - temp.min(axis=0)) / (temp.max(axis=0) - temp.min(axis=0))\n",
        "\n",
        "num = len(minmax[minmax>0.5])\n",
        "num"
      ],
      "execution_count": null,
      "outputs": []
    },
    {
      "cell_type": "markdown",
      "metadata": {
        "id": "xbSvC9fc1MGT"
      },
      "source": [
        "## 2. 분석문제"
      ]
    },
    {
      "cell_type": "code",
      "metadata": {
        "id": "zPhPmY2WpGCH"
      },
      "source": [
        "y_train = pd.read_csv(path + 'y_train.csv')\n",
        "X_train = pd.read_csv(path + 'X_train.csv',encoding='euc-kr')\n",
        "test  = pd.read_csv(path + 'X_test.csv',encoding='euc-kr')"
      ],
      "execution_count": null,
      "outputs": []
    },
    {
      "cell_type": "code",
      "metadata": {
        "id": "UjvSyY7FIy8d"
      },
      "source": [
        "X_train"
      ],
      "execution_count": null,
      "outputs": []
    },
    {
      "cell_type": "code",
      "metadata": {
        "id": "VgUMwg8_I3W-"
      },
      "source": [
        "y_train"
      ],
      "execution_count": null,
      "outputs": []
    },
    {
      "cell_type": "code",
      "metadata": {
        "id": "UQpvBmm82vRZ"
      },
      "source": [
        "train = pd.merge(y_train,X_train) # 공통 열 묶임"
      ],
      "execution_count": null,
      "outputs": []
    },
    {
      "cell_type": "code",
      "metadata": {
        "id": "UsbvYmV2I_VF"
      },
      "source": [
        "train"
      ],
      "execution_count": null,
      "outputs": []
    },
    {
      "cell_type": "markdown",
      "metadata": {
        "id": "ag6Yt1bGLi8Y"
      },
      "source": [
        "## Null 처리"
      ]
    },
    {
      "cell_type": "code",
      "metadata": {
        "id": "F3ctb6kI199j"
      },
      "source": [
        "train.isnull().sum()"
      ],
      "execution_count": null,
      "outputs": []
    },
    {
      "cell_type": "code",
      "metadata": {
        "id": "EjoqT6NL2XUp"
      },
      "source": [
        "train[train['환불금액'].isnull()].gender.value_counts()"
      ],
      "execution_count": null,
      "outputs": []
    },
    {
      "cell_type": "code",
      "metadata": {
        "id": "dN5fTjFc2lbA"
      },
      "source": [
        "#환불금액 null -> 환불금액 없다는 뜻 -> 0 대체\n",
        "train['환불금액'] =train['환불금액'].fillna(0)\n",
        "test['환불금액'] = test['환불금액'].fillna(0)"
      ],
      "execution_count": null,
      "outputs": []
    },
    {
      "cell_type": "code",
      "metadata": {
        "id": "NVQEJqaeL2tq"
      },
      "source": [
        " train['주구매상품'].value_counts()"
      ],
      "execution_count": null,
      "outputs": []
    },
    {
      "cell_type": "markdown",
      "metadata": {
        "id": "_UjxoqjhdDqa"
      },
      "source": [
        "## 이상치 확인 -> 그냥해봄"
      ]
    },
    {
      "cell_type": "code",
      "metadata": {
        "id": "W8lfAW-rVn9j"
      },
      "source": [
        "numerical_feats = ['총구매액', '최대구매액', '환불금액', '내점일수', '내점당구매건수', '주말방문비율', '구매주기']"
      ],
      "execution_count": null,
      "outputs": []
    },
    {
      "cell_type": "code",
      "metadata": {
        "id": "8JZiEKHNXuqI"
      },
      "source": [
        "t= train.copy()"
      ],
      "execution_count": null,
      "outputs": []
    },
    {
      "cell_type": "code",
      "metadata": {
        "id": "2bDIfQVRd0pT"
      },
      "source": [
        "for v in numerical_feats:\n",
        "    df = t[[v,'gender']]\n",
        "    \n",
        "    male = df[df.gender==1]\n",
        "    female = df[df.gender==0]\n",
        "    fig, axes = plt.subplots(1,2,figsize=(15,5))\n",
        "    \n",
        "    print(v)\n",
        "    axes[0].hist(male[v],alpha=0.3,color='blue',label='male',bins=40)\n",
        "    axes[0].hist(female[v],alpha=0.3,color='red',label='female',bins=40)\n",
        "    axes[0].legend()\n",
        "    axes[1].boxplot(female[v],positions=[0],widths=0.5)\n",
        "    axes[1].boxplot(male[v],positions=[1],widths=0.5)\n",
        "    axes[1].set_xticklabels(['women','men'])\n",
        "    plt.show()"
      ],
      "execution_count": null,
      "outputs": []
    },
    {
      "cell_type": "markdown",
      "metadata": {
        "id": "PZtox00R1oNj"
      },
      "source": [
        "## Scale / get-dummy / smote / RF Modeling / GSCV"
      ]
    },
    {
      "cell_type": "code",
      "metadata": {
        "id": "t1_1gmlVy5ar"
      },
      "source": [
        "x = train.drop(['cust_id','gender'],axis=1)\n",
        "y = train.gender"
      ],
      "execution_count": null,
      "outputs": []
    },
    {
      "cell_type": "code",
      "metadata": {
        "id": "fgicQq6t_arL"
      },
      "source": [
        "x_dum = pd.get_dummies(x)\n",
        "test_dum = pd.get_dummies(test)\n",
        "\n",
        "missing_cols = set( x_dum.columns ) - set( test_dum.columns )\n",
        "for c in missing_cols:\n",
        "    test_dum[c] = 0\n",
        "test_dum = test_dum[x_dum.columns]\n"
      ],
      "execution_count": null,
      "outputs": []
    },
    {
      "cell_type": "code",
      "metadata": {
        "id": "6SsZlEXN_qyJ"
      },
      "source": [
        "scaler = StandardScaler()\n",
        "x_dum = scaler.fit_transform(x_dum)\n",
        "test_dum = scaler.transform(test_dum)"
      ],
      "execution_count": null,
      "outputs": []
    },
    {
      "cell_type": "code",
      "metadata": {
        "id": "SCs6Kk6c_rFa"
      },
      "source": [
        "X_train, X_test, y_train, y_test = train_test_split(x_dum, y, test_size=0.2, random_state=42, stratify=y)"
      ],
      "execution_count": null,
      "outputs": []
    },
    {
      "cell_type": "code",
      "metadata": {
        "id": "NSyDP37x_0KO"
      },
      "source": [
        "smote = SMOTE(random_state=42)\n",
        "X_train_over,y_train_over = smote.fit_resample(X_train,y_train)"
      ],
      "execution_count": null,
      "outputs": []
    },
    {
      "cell_type": "code",
      "metadata": {
        "id": "8_tYEeP9__ot"
      },
      "source": [
        "rf = RandomForestClassifier(max_depth=2, random_state=0)\n",
        "rf.fit(X_train_over, y_train_over)\n",
        "\n",
        "y_pred = rf.predict(X_test)\n",
        "report =classification_report(y_test, y_pred, target_names=['class 0', 'class 1'])\n",
        "print(report)"
      ],
      "execution_count": null,
      "outputs": []
    },
    {
      "cell_type": "code",
      "metadata": {
        "id": "OvJ-j877ADpl"
      },
      "source": [
        "lr_probs = rf.predict_proba(X_test)\n",
        "lr_auc = roc_auc_score(y_test, lr_probs[:,1])\n",
        "lr_auc"
      ],
      "execution_count": null,
      "outputs": []
    },
    {
      "cell_type": "code",
      "metadata": {
        "id": "-U1ri86EDMZn"
      },
      "source": [
        "skfold = StratifiedKFold(n_splits=10)\n",
        "\n",
        "RF = RandomForestClassifier()\n",
        "\n",
        "\n",
        "## Search grid for optimal parameters\n",
        "rf_param_grid = {\"max_depth\": [None],\n",
        "              \"max_features\": [1, 3, 10],\n",
        "              \"min_samples_split\": [2, 3, 10],\n",
        "              \"min_samples_leaf\": [1, 3, 10],\n",
        "              \"bootstrap\": [False],\n",
        "              \"n_estimators\" :[100,300],\n",
        "              \"criterion\": [\"gini\"]}\n",
        "\n",
        "\n",
        "gsRF = GridSearchCV(RF, param_grid = rf_param_grid, cv=skfold, scoring=\"accuracy\", n_jobs= 4, verbose = 1)\n",
        "gsRF.fit(x_dum,y)\n",
        "RF_best = gsRF.best_estimator_\n",
        "\n",
        "gsRF.best_score_"
      ],
      "execution_count": null,
      "outputs": []
    },
    {
      "cell_type": "code",
      "metadata": {
        "id": "ZcpGhD91CC9v"
      },
      "source": [
        "test_gender = pd.Series(gsRF.predict_proba(test_dum)[:,1], name=\"gender\")\n",
        "results= pd.concat([test.cust_id,test_gender],axis=1)\n",
        "results.head(3)"
      ],
      "execution_count": null,
      "outputs": []
    },
    {
      "cell_type": "code",
      "metadata": {
        "id": "Ks2NZMIsZQUa"
      },
      "source": [
        "results.to_csv(\"submission.csv\",index=False)"
      ],
      "execution_count": null,
      "outputs": []
    }
  ]
}